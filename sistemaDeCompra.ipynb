{
  "cells": [
    {
      "cell_type": "markdown",
      "metadata": {
        "id": "view-in-github",
        "colab_type": "text"
      },
      "source": [
        "<a href=\"https://colab.research.google.com/github/ViniciusNogi/ViniciusNogi/blob/main/sistemaDeCompra.ipynb\" target=\"_parent\"><img src=\"https://colab.research.google.com/assets/colab-badge.svg\" alt=\"Open In Colab\"/></a>"
      ]
    },
    {
      "cell_type": "code",
      "execution_count": null,
      "metadata": {
        "id": "WuGV6rgDj8wR"
      },
      "outputs": [],
      "source": [
        "estoque = {}"
      ]
    },
    {
      "cell_type": "code",
      "execution_count": null,
      "metadata": {
        "id": "_8S6EwdPkTPR"
      },
      "outputs": [],
      "source": [
        "def comprarProduto():\n",
        "    produtoNome = (input(\"Insira o nome do produto \")).capitalize()\n",
        "    produtoQuantidade =  int(input(\"Quantidade \"))\n",
        "    produtoValor = float(input(\"Valor \"))\n",
        "    estoque[produtoNome] = [produtoQuantidade, produtoValor]\n",
        "    print(\"Produto adicionado na lista de estoque\")\n"
      ]
    },
    {
      "cell_type": "code",
      "execution_count": null,
      "metadata": {
        "id": "--Ts41Gel0Hk",
        "colab": {
          "base_uri": "https://localhost:8080/"
        },
        "outputId": "8f81edad-2ff4-4ae3-8e1d-5ab12ca083d7"
      },
      "outputs": [
        {
          "output_type": "stream",
          "name": "stdout",
          "text": [
            "Insira o nome do produto lapis\n",
            "Quantidade 120\n",
            "Valor 0.3\n",
            "Produto adicionado na lista de estoque\n"
          ]
        }
      ],
      "source": [
        "comprarProduto()"
      ]
    },
    {
      "cell_type": "code",
      "execution_count": null,
      "metadata": {
        "id": "onxGR-x8np7R",
        "colab": {
          "base_uri": "https://localhost:8080/"
        },
        "outputId": "af7b0b9d-05d5-4544-a94c-1492a9bdbf4b"
      },
      "outputs": [
        {
          "output_type": "execute_result",
          "data": {
            "text/plain": [
              "{'Caneta': [30, 1.5], 'Lapis': [120, 0.3]}"
            ]
          },
          "metadata": {},
          "execution_count": 13
        }
      ],
      "source": [
        "estoque"
      ]
    },
    {
      "cell_type": "code",
      "source": [
        "def excluirProdutos ():\n",
        "  excluir = (input(\"Qual o produto excluir ?: \")).capitalize()\n",
        "  if excluir in estoque:\n",
        "      excluirProduto = estoque.pop(excluir)\n",
        "      print (f\"Produto {excluir} foi excluido.\")\n",
        "  else:\n",
        "    print(\"Produto não encontrado\")"
      ],
      "metadata": {
        "id": "xzjZjIwYXGpl"
      },
      "execution_count": null,
      "outputs": []
    },
    {
      "cell_type": "code",
      "source": [
        "excluirProdutos()"
      ],
      "metadata": {
        "id": "ad0kmi6LmkuI"
      },
      "execution_count": null,
      "outputs": []
    },
    {
      "cell_type": "code",
      "source": [
        "estoque\n"
      ],
      "metadata": {
        "id": "4TO7QYienu6A"
      },
      "execution_count": null,
      "outputs": []
    },
    {
      "cell_type": "code",
      "source": [
        "def alterarProduto ():\n",
        "  alterarNome = (input(\"Nome do produto que irá alterar \")).capitalize()\n",
        "  if alterarNome in estoque.keys():\n",
        "\n",
        "\n",
        "    alterarQuantidade =  int(input(\"Quantidade que irá alterar \"))\n",
        "    alterarValor = float(input(\"Valor que irá alterar \"))\n",
        "    estoque [alterarNome] = [alterarQuantidade, alterarValor]\n",
        "\n",
        "  else:\n",
        "    print(\"Produto não encontrado !\")\n"
      ],
      "metadata": {
        "id": "ktck_CW-nwfb"
      },
      "execution_count": null,
      "outputs": []
    },
    {
      "cell_type": "code",
      "source": [
        "alterarProduto()"
      ],
      "metadata": {
        "id": "9Dh6PWivuvZN"
      },
      "execution_count": null,
      "outputs": []
    },
    {
      "cell_type": "code",
      "source": [
        "estoque\n"
      ],
      "metadata": {
        "id": "jOYjjE7bu0Wi"
      },
      "execution_count": null,
      "outputs": []
    }
  ],
  "metadata": {
    "colab": {
      "provenance": [],
      "authorship_tag": "ABX9TyPfhhTYB2RKUczt+1PCQmG3",
      "include_colab_link": true
    },
    "kernelspec": {
      "display_name": "Python 3",
      "name": "python3"
    },
    "language_info": {
      "name": "python"
    }
  },
  "nbformat": 4,
  "nbformat_minor": 0
}